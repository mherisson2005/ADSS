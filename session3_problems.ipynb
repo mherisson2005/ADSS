{
 "cells": [
  {
   "cell_type": "markdown",
   "metadata": {},
   "source": [
    "### Problem 1\n",
    "\n",
    "*A 4D tensor has size 100 x 150 x 80 x 100 and 30M non-zero elements. What is its sparsity? How does the tensor take less space: in a dense representation, or as a coordinate list?*"
   ]
  },
  {
   "cell_type": "markdown",
   "metadata": {},
   "source": [
    "### Problem 2\n",
    "\n",
    "*Write a Python function `sparse2dense(indices, values)` that converts a sparse 2D array in coordinate list format (COO) to a dense 2D array.*"
   ]
  },
  {
   "cell_type": "markdown",
   "metadata": {},
   "source": [
    "### Problem 3\n",
    "\n",
    "*Write a function `dense2sparse(x)` that converts a dense 2D array into list of lists format (LIL).*"
   ]
  },
  {
   "cell_type": "markdown",
   "metadata": {},
   "source": [
    "### Problem 4\n",
    "\n",
    "*The series `NYC_temperature.csv` contains hourly temperatures from 01.10.2012 to 30-11-2017 in New York. How warm was the warmest 30-day period? Find the answer using two `for` loops.*"
   ]
  }
 ],
 "metadata": {
  "kernelspec": {
   "display_name": "Python 3 (ipykernel)",
   "language": "python",
   "name": "python3"
  },
  "language_info": {
   "codemirror_mode": {
    "name": "ipython",
    "version": 3
   },
   "file_extension": ".py",
   "mimetype": "text/x-python",
   "name": "python",
   "nbconvert_exporter": "python",
   "pygments_lexer": "ipython3",
   "version": "3.9.7"
  }
 },
 "nbformat": 4,
 "nbformat_minor": 4
}
